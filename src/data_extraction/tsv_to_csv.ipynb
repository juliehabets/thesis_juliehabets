{
 "cells": [
  {
   "cell_type": "markdown",
   "id": "e76751ef",
   "metadata": {},
   "source": [
    "# userdata_1k"
   ]
  },
  {
   "cell_type": "code",
   "execution_count": null,
   "id": "9d8f53f9",
   "metadata": {},
   "outputs": [],
   "source": [
    "# Simple Way to Read TSV Files in Python using pandas\n",
    "# importing pandas library\n",
    "import pandas as pd\n",
    " \n",
    "# Passing the TSV file to read_csv() function with tab separator. This function will read data from file\n",
    "userdata_1k = pd.read_csv('./data/extracted_tar_files/lastfm-dataset-1k/userid-timestamp-artid-artname-traid-traname.tsv', sep='\\t', error_bad_lines=False)\n",
    "\n",
    "#change colums\n",
    "userdata_1k.columns=['userid', 'timestamp', 'artist_MBID', 'artist', 'track_MBID', 'track_name']\n",
    "\n",
    "userdata_1k"
   ]
  },
  {
   "cell_type": "code",
   "execution_count": null,
   "id": "10aacb5f",
   "metadata": {},
   "outputs": [],
   "source": [
    "# write to csv\n",
    "#userdata.to_csv(\"userdata.csv\", sep='\\t', encoding='utf-8')\n",
    "userdata_1k.to_csv(\"userdata_1k.csv\", sep=',', encoding= 'utf-8')\n",
    "\n",
    "# moet nog kijken hoe ik dit in de goede map krijg"
   ]
  },
  {
   "cell_type": "markdown",
   "id": "bc8e052b",
   "metadata": {},
   "source": [
    "# userinfo_1k"
   ]
  },
  {
   "cell_type": "code",
   "execution_count": null,
   "id": "61a30877",
   "metadata": {},
   "outputs": [],
   "source": [
    "userinfo_1k = pd.read_csv('./data/extracted_tar_files/lastfm-dataset-1k/userid-profile.tsv', sep='\\t', error_bad_lines=False)\n",
    "userinfo_1k.columns=['userid', 'gender', 'age', 'country', 'registered']\n",
    "\n",
    "userinfo_1k"
   ]
  },
  {
   "cell_type": "code",
   "execution_count": null,
   "id": "06b99207",
   "metadata": {},
   "outputs": [],
   "source": [
    "# write to csv\n",
    "#userdata.to_csv(\"userdata.csv\", sep='\\t', encoding='utf-8')\n",
    "userinfo_1k.to_csv(\"userinfo_1k.csv\", sep=',', encoding= 'utf-8')"
   ]
  }
 ],
 "metadata": {
  "kernelspec": {
   "display_name": "Python 3",
   "language": "python",
   "name": "python3"
  },
  "language_info": {
   "codemirror_mode": {
    "name": "ipython",
    "version": 3
   },
   "file_extension": ".py",
   "mimetype": "text/x-python",
   "name": "python",
   "nbconvert_exporter": "python",
   "pygments_lexer": "ipython3",
   "version": "3.8.8"
  }
 },
 "nbformat": 4,
 "nbformat_minor": 5
}
