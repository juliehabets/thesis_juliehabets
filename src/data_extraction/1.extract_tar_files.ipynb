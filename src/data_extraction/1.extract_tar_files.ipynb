{
 "cells": [
  {
   "cell_type": "code",
   "execution_count": 4,
   "id": "b11b6100",
   "metadata": {},
   "outputs": [
    {
     "name": "stdout",
     "output_type": "stream",
     "text": [
      "Directory 'dataa' created\n"
     ]
    }
   ],
   "source": [
    "# create data folder\n",
    "import os \n",
    "\n",
    "# Directory\n",
    "directory = \"data\"\n",
    "  \n",
    "# Parent Directory path\n",
    "parent_dir = \"../../\"\n",
    "  \n",
    "# Path\n",
    "path = os.path.join(parent_dir, directory)\n",
    "  \n",
    "# Create the directory\n",
    "os.mkdir(path)\n",
    "\n",
    "print(\"Directory '% s' created\" % directory)"
   ]
  },
  {
   "cell_type": "code",
   "execution_count": null,
   "id": "0c5a9f43",
   "metadata": {},
   "outputs": [],
   "source": [
    "# tarfile open, extract \n",
    "import tarfile\n",
    "my_tar = tarfile.open('../../data/lastfm-dataset-1K.tar.gz')\n",
    "my_tar.extractall('../../data') # specify which folder to extract to\n",
    "my_tar.close()\n",
    "\n",
    "# tarfile 360K\n",
    "#my_tar = tarfile.open('./data/raw_tar_files/lastfm-dataset-360K.tar.gz')\n",
    "#my_tar.extractall('./data/extracted_tar_files') # specify which folder to extract to\n",
    "#my_tar.close()"
   ]
  }
 ],
 "metadata": {
  "kernelspec": {
   "display_name": "Python 3",
   "language": "python",
   "name": "python3"
  },
  "language_info": {
   "codemirror_mode": {
    "name": "ipython",
    "version": 3
   },
   "file_extension": ".py",
   "mimetype": "text/x-python",
   "name": "python",
   "nbconvert_exporter": "python",
   "pygments_lexer": "ipython3",
   "version": "3.8.8"
  }
 },
 "nbformat": 4,
 "nbformat_minor": 5
}
