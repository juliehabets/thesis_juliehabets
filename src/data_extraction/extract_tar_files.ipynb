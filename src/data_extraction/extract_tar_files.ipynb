{
 "cells": [
  {
   "cell_type": "code",
   "execution_count": 1,
   "id": "b11b6100",
   "metadata": {},
   "outputs": [],
   "source": [
    "# tarfile open, extract \n",
    "import tarfile\n",
    "my_tar = tarfile.open('./data/raw_tar_files/lastfm-dataset-1K.tar.gz')\n",
    "my_tar.extractall('./data/extracted_tar_files') # specify which folder to extract to\n",
    "my_tar.close()\n",
    "\n",
    "# tarfile 360K\n",
    "my_tar = tarfile.open('./data/raw_tar_files/lastfm-dataset-360K.tar.gz')\n",
    "my_tar.extractall('./data/extracted_tar_files') # specify which folder to extract to\n",
    "my_tar.close()"
   ]
  }
 ],
 "metadata": {
  "kernelspec": {
   "display_name": "Python 3",
   "language": "python",
   "name": "python3"
  },
  "language_info": {
   "codemirror_mode": {
    "name": "ipython",
    "version": 3
   },
   "file_extension": ".py",
   "mimetype": "text/x-python",
   "name": "python",
   "nbconvert_exporter": "python",
   "pygments_lexer": "ipython3",
   "version": "3.8.8"
  }
 },
 "nbformat": 4,
 "nbformat_minor": 5
}
