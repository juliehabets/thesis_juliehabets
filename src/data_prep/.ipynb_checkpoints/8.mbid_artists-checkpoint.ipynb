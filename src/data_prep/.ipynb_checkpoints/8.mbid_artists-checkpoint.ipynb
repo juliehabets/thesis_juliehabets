{
 "cells": [
  {
   "cell_type": "markdown",
   "id": "b2a21f5f",
   "metadata": {},
   "source": [
    "# API setup"
   ]
  },
  {
   "cell_type": "code",
   "execution_count": 2,
   "id": "75358c02",
   "metadata": {},
   "outputs": [],
   "source": [
    "# import packages\n",
    "import requests\n",
    "import pandas as pd\n",
    "import time\n",
    "import musicbrainzngs as mb"
   ]
  },
  {
   "cell_type": "code",
   "execution_count": 3,
   "id": "3916e1d3",
   "metadata": {},
   "outputs": [],
   "source": [
    "# setting user agent\n",
    "mb.set_useragent(\"thesis_jh\", 1, contact = None)"
   ]
  },
  {
   "cell_type": "code",
   "execution_count": 4,
   "id": "1ad49207",
   "metadata": {},
   "outputs": [],
   "source": [
    "# set rate limit\n",
    "mb.set_rate_limit(limit_or_interval = 1.0, new_requests=1)"
   ]
  },
  {
   "cell_type": "code",
   "execution_count": 5,
   "id": "0fb9dc71",
   "metadata": {},
   "outputs": [],
   "source": [
    "# authenticate the request \n",
    "u = \"juliehabets\"\n",
    "p = \"thesis2022\"\n",
    "\n",
    "mb.auth(u, p)"
   ]
  },
  {
   "cell_type": "markdown",
   "id": "057a49c5",
   "metadata": {},
   "source": [
    "# MBID dataset"
   ]
  },
  {
   "cell_type": "code",
   "execution_count": 6,
   "id": "f7367dc5",
   "metadata": {},
   "outputs": [],
   "source": [
    "# load dataset & clean\n",
    "MBID_artist = pd.read_csv(\"../../gen/temp/na_u1m_artistMBID.csv\")\n",
    "MBID_artist = MBID_artist.drop('Unnamed: 0', axis = 1)\n",
    "MBID_artist = MBID_artist.drop_duplicates(subset = ['artist_MBID'])"
   ]
  },
  {
   "cell_type": "code",
   "execution_count": 7,
   "id": "b3b454c7",
   "metadata": {},
   "outputs": [],
   "source": [
    "# variations on dataset\n",
    "MBID_artist_list = MBID_artist['artist_MBID'].tolist()"
   ]
  },
  {
   "cell_type": "markdown",
   "id": "edea705d",
   "metadata": {},
   "source": [
    "# API extraction function"
   ]
  },
  {
   "cell_type": "code",
   "execution_count": 8,
   "id": "e326eb6a",
   "metadata": {},
   "outputs": [],
   "source": [
    "def label_match(list): \n",
    "    \"\"\"\n",
    "    Function that loops through a list of artists' MBIDs and looks for known relations with labels.\n",
    "    \"\"\"\n",
    "    MBID_info = []\n",
    "        \n",
    "    for artist in list:\n",
    "        try: # make API call unless an HTTP error occurs\n",
    "            print(artist)\n",
    "            result = mb.get_artist_by_id(artist, includes = \"label-rels\")\n",
    "        \n",
    "            \n",
    "            if 'label-relation-list' in result['artist']:\n",
    "                for i in range (0, len(result['artist']['label-relation-list'])):\n",
    "                    dic = {}\n",
    "                    dic['artist_name'] = result[\"artist\"]['name']\n",
    "                    dic['mbid_artist'] = result[\"artist\"][\"id\"]\n",
    "                    dic['label_type'] = result['artist']['label-relation-list'][i]['type']\n",
    "                    dic['label_name'] = result['artist']['label-relation-list'][i]['label']['name']\n",
    "                    MBID_info.append(dic)\n",
    "            else:\n",
    "                dic = {}\n",
    "                dic['artist_name'] = result['artist']['name']\n",
    "                dic['mbid_artist'] = result[\"artist\"][\"id\"]\n",
    "                dic['label_type'] = \"NA\"\n",
    "                dic['label_name'] = \"NA\"\n",
    "                MBID_info.append(dic)\n",
    "        except Exception as e: # if HTTP error occurs, make sure loop continues with the next MBID\n",
    "            print(e)\n",
    "    new = pd.DataFrame.from_dict(MBID_info)    \n",
    "    return new"
   ]
  },
  {
   "cell_type": "markdown",
   "id": "a5c3a4eb",
   "metadata": {},
   "source": [
    "# Calling function"
   ]
  },
  {
   "cell_type": "code",
   "execution_count": null,
   "id": "21296e32",
   "metadata": {},
   "outputs": [
    {
     "name": "stdout",
     "output_type": "stream",
     "text": [
      "a7f7df4a-77d8-4f12-8acd-5c60c93f4de8\n",
      "45bdb5be-ec03-484f-b58d-d22afc944b24\n",
      "d6d19578-67e8-4722-8165-ccd2e19c9c6a\n",
      "2ecccf00-1465-4cc1-8f12-3acf1edd2fa7\n",
      "6715de04-77fd-4b5b-b736-4d96afb16493\n",
      "7b83ad2e-722b-49fa-b6c0-914ac1092a3f\n",
      "cadc1067-6f8f-499c-b74f-eb6c62125827\n",
      "8fb38cad-a97d-44ab-9e7e-c765718e25e7\n",
      "eab8228c-a9c8-4ddb-a93d-ffca74a379bf\n",
      "abd66d19-8e3a-4a68-900e-e519d37cae76\n",
      "86ddf86f-b593-4531-a559-c506aad63535\n",
      "af8a8ede-2c56-469e-9069-463218595f85\n",
      "e2c00c56-8365-4160-9f40-a64682917633\n",
      "69837400-8e31-4949-aac2-00b46b4df126\n",
      "28f87490-205b-4187-970b-cd48881f5225\n",
      "94b72bc5-3e13-46ae-8470-0bfa17264068\n",
      "e90d9bba-c386-478e-ae84-c54fb07a34df\n",
      "c1839207-c3ca-4400-a93b-dec9f3e21734\n",
      "94f6def3-dbfe-403b-bb40-d324c8c13fbb\n",
      "ef954679-5ee7-4016-acef-7ac71f2fa3d8\n",
      "0294d372-5574-43e7-ba04-ad649a5fd1b8\n",
      "343c5a53-5e83-4165-9980-5f46efa10d0e\n",
      "caused by: HTTP Error 404: Not Found\n",
      "39ab1aed-75e0-4140-bd47-540276886b60\n",
      "7cf0ea9d-86b9-4dad-ba9e-2355a64899ea\n",
      "66fc5bf8-daa4-4241-b378-9bc9077939d2\n",
      "aabb1d9f-be12-45b3-a84d-a1fc3e8181fd\n",
      "bbe94033-40e5-4350-abe6-ac5af4c24079\n",
      "cc2c9c3c-b7bc-4b8b-84d8-4fbd8779e493\n",
      "18191eea-369f-42e8-96ab-c1c24e4d0011\n",
      "2d44d331-e622-4242-9e5e-0146dbfc328e\n",
      "caused by: HTTP Error 404: Not Found\n",
      "e5a2f764-9c8e-4fd0-96c1-87a28f685d21\n",
      "caused by: HTTP Error 404: Not Found\n",
      "4c053636-f8e8-4bc7-91f2-51393944053a\n",
      "ce4677c1-13e4-450c-9022-161f0438c80e\n",
      "caused by: HTTP Error 404: Not Found\n",
      "96505120-3796-413b-8181-afa9bbd9aacb\n",
      "caused by: HTTP Error 404: Not Found\n",
      "e00bd42b-334c-4494-98b4-309612de946e\n",
      "6c488159-c4b1-4aa4-8185-5bc1aa51b176\n",
      "e63b82a3-928e-426f-b347-231efa535ba1\n",
      "60c5adf1-f014-4cce-a2f0-aa713e84ce77\n",
      "f79b29ad-208d-4222-b87d-8735dbb9dcaa\n",
      "caused by: HTTP Error 404: Not Found\n",
      "0530624b-3bbd-4fbb-9597-9f4639befc42\n",
      "dd4458c8-6728-4a44-980c-48107fa72bb8\n",
      "ec4e96b9-a5fc-4eea-9c69-2cc2a395f46e\n",
      "77d61a34-d75d-4d7e-90de-96d9d7a6c5d5\n",
      "5dd0c8e8-68aa-4c4e-b686-3f77c574602a\n",
      "cec59910-2d12-46ec-8e39-85ca06acb0ed\n",
      "b8e952c5-4e8a-4cf1-9403-ba208d90a4c9\n",
      "caused by: HTTP Error 404: Not Found\n",
      "ae681605-2801-4120-9a48-e18752042306\n",
      "caused by: HTTP Error 404: Not Found\n",
      "88aaa2c5-e509-43ad-a04e-357e4f005c05\n",
      "caused by: HTTP Error 404: Not Found\n",
      "aee618e2-3a55-4111-bf3c-e61eecd06b2d\n",
      "f5b8ea5f-c269-45dd-9936-1fedf3c56851\n",
      "b539e453-c4fe-47e3-8a07-8517eac74429\n",
      "969016c9-4136-4f1e-b367-0f4f26f93525\n",
      "caused by: HTTP Error 404: Not Found\n",
      "69689acf-d9cd-4d20-a972-47db4ed51b1a\n",
      "5f8dfb7a-3cf6-47a1-a361-eb3b187f09f6\n",
      "56e347d3-0306-4a32-a015-f9d19ebf56fb\n",
      "0189c612-39a5-485d-8fc2-eca025b73861\n",
      "4cc51547-88ae-49a2-bf7e-0ef65ee7a94c\n",
      "f563a1a9-069b-41ed-8b3b-e1b1a6f5b34b\n"
     ]
    }
   ],
   "source": [
    "total_label_match = label_match(MBID_artist_list)"
   ]
  },
  {
   "cell_type": "markdown",
   "id": "d7c21cd0",
   "metadata": {},
   "source": [
    "# Filter out NAs and write to CSV"
   ]
  },
  {
   "cell_type": "code",
   "execution_count": null,
   "id": "30cb2a5c",
   "metadata": {},
   "outputs": [],
   "source": [
    "total_label_match_filtered = total_label_match[total_label_match['label_type']!='NA']\n",
    "total_label_match_filtered.to_csv('../../gen/temp/finartist_label_mbid.csv')"
   ]
  },
  {
   "cell_type": "code",
   "execution_count": null,
   "id": "c00e6550",
   "metadata": {},
   "outputs": [],
   "source": []
  }
 ],
 "metadata": {
  "kernelspec": {
   "display_name": "Python 3",
   "language": "python",
   "name": "python3"
  },
  "language_info": {
   "codemirror_mode": {
    "name": "ipython",
    "version": 3
   },
   "file_extension": ".py",
   "mimetype": "text/x-python",
   "name": "python",
   "nbconvert_exporter": "python",
   "pygments_lexer": "ipython3",
   "version": "3.8.8"
  }
 },
 "nbformat": 4,
 "nbformat_minor": 5
}
