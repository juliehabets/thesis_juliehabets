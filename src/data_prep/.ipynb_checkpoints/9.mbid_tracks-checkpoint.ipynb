{
 "cells": [
  {
   "cell_type": "markdown",
   "id": "da15b98d",
   "metadata": {},
   "source": [
    "# API setup"
   ]
  },
  {
   "cell_type": "code",
   "execution_count": 1,
   "id": "a04869e5",
   "metadata": {},
   "outputs": [],
   "source": [
    "# import packages\n",
    "import requests\n",
    "import pandas as pd\n",
    "import time\n",
    "import musicbrainzngs as mb"
   ]
  },
  {
   "cell_type": "code",
   "execution_count": 2,
   "id": "bb5868e5",
   "metadata": {},
   "outputs": [],
   "source": [
    "# setting user agent\n",
    "mb.set_useragent(\"thesis_jh\", 2, contact = None)"
   ]
  },
  {
   "cell_type": "code",
   "execution_count": 3,
   "id": "b5d9eaaa",
   "metadata": {},
   "outputs": [],
   "source": [
    "# set rate limit\n",
    "mb.set_rate_limit(limit_or_interval = 1.0, new_requests=1)"
   ]
  },
  {
   "cell_type": "code",
   "execution_count": 4,
   "id": "82207d6c",
   "metadata": {},
   "outputs": [],
   "source": [
    "# authenticate the request \n",
    "u = \"juliehabets\"\n",
    "p = \"thesis2022\"\n",
    "\n",
    "mb.auth(u, p)"
   ]
  },
  {
   "cell_type": "markdown",
   "id": "9eb3e6bb",
   "metadata": {},
   "source": [
    "# MBID dataset"
   ]
  },
  {
   "cell_type": "code",
   "execution_count": 5,
   "id": "d0acad18",
   "metadata": {},
   "outputs": [],
   "source": [
    "# load dataset & clean\n",
    "MBID_tracks = pd.read_csv(\"../../gen/temp/na_u1m_trackMBID.csv\")\n",
    "MBID_tracks = MBID_tracks.drop('Unnamed: 0', axis = 1)\n",
    "MBID_tracks = MBID_tracks.drop_duplicates(subset = ['track_MBID'])"
   ]
  },
  {
   "cell_type": "code",
   "execution_count": 6,
   "id": "e163a05a",
   "metadata": {},
   "outputs": [],
   "source": [
    "# variations on dataset\n",
    "MBID_tracks_list = MBID_tracks['track_MBID'].tolist()"
   ]
  },
  {
   "cell_type": "markdown",
   "id": "6f2c2dbe",
   "metadata": {},
   "source": [
    "# API extraction function"
   ]
  },
  {
   "cell_type": "code",
   "execution_count": 7,
   "id": "93a8fe2b",
   "metadata": {},
   "outputs": [],
   "source": [
    "def label_match(list): \n",
    "    \"\"\"\n",
    "    Function that loops through a list of tracks' MBIDs and looks for known relations with labels.\n",
    "    \"\"\"\n",
    "    MBID_info = []\n",
    "        \n",
    "    for track in list:\n",
    "        try: # make API call unless an HTTP error occurs\n",
    "            print(track)\n",
    "            result = mb.get_recording_by_id(track, includes = \"label-rels\")\n",
    "        \n",
    "            \n",
    "            if 'label-relation-list' in result['recording']:\n",
    "                for i in range (0, len(result['recording']['label-relation-list'])):\n",
    "                    dic = {}\n",
    "                    dic['recording_name'] = result[\"recording\"]['title']\n",
    "                    dic['track_id'] = result[\"recording\"]['id']\n",
    "                    dic['label_type'] = result['recording']['label-relation-list'][i]['type']\n",
    "                    dic['label_name'] = result['recording']['label-relation-list'][i]['label']['name']\n",
    "                    MBID_info.append(dic)\n",
    "            else:\n",
    "                dic = {}\n",
    "                dic['recording_name'] = result['recording']['title']\n",
    "                dic['track_id'] = result[\"recording\"]['id']\n",
    "                dic['label_type'] = \"NA\"\n",
    "                dic['label_name'] = \"NA\"\n",
    "                MBID_info.append(dic)\n",
    "        except Exception as e: # if HTTP error occurs, make sure loop continues with the next MBID\n",
    "            print(e)\n",
    "    new = pd.DataFrame.from_dict(MBID_info)    \n",
    "    return new"
   ]
  },
  {
   "cell_type": "markdown",
   "id": "706413c9",
   "metadata": {},
   "source": [
    "# Calling function"
   ]
  },
  {
   "cell_type": "code",
   "execution_count": null,
   "id": "3af9f0a0",
   "metadata": {},
   "outputs": [
    {
     "name": "stdout",
     "output_type": "stream",
     "text": [
      "475d4e50-cebb-4cd0-8cd4-c3df97987962\n",
      "c4fc8802-d186-4c4d-85cd-d5d063b935c2\n",
      "e95f0ec7-8e89-4360-85f8-6a4ba459fa65\n",
      "f7c1f8f8-b935-45ed-8fc8-7def69d92a10\n",
      "68890e25-1b38-493d-8566-8df8dedf377c\n",
      "5c1e415f-dc4f-407e-84e5-2ed56b95d73e\n",
      "b4791d03-f64e-417e-ac78-cdb907b2fab6\n",
      "ddd0f707-57af-491f-9ea1-991f62e5335f\n",
      "47916e82-d966-4cdc-bd65-c2c0806b54f8\n",
      "d8ee53c2-5b25-4e98-9f6f-d0538d363cc6\n",
      "b891ab90-ae04-430f-9aa9-a676b8f2d7f7\n",
      "909bcc7c-e81a-41bd-b4c8-d4ce835f9432\n",
      "968e7c11-3aa2-4932-9ea7-8a49aabf3747\n",
      "af966937-bf14-4d7d-9ab2-a4f21ceaafc4\n",
      "fc7c8c8e-b7f2-4af2-a613-f7c0c470fd45\n",
      "a4a085aa-6dbc-450f-bef7-e1fa3e72e0dc\n",
      "213837d4-0582-49f0-9e45-977f92918323\n",
      "04049f3b-2fda-460f-a3ea-05f0418792c1\n",
      "7bcaad4e-6dce-4a68-9937-10e966ae44b2\n",
      "f50b7f3f-2a5e-4301-8cb8-b7e0e31fa6c6\n",
      "fc5cbf93-2512-4ee2-afff-cfea899d0b42\n",
      "2b3051f0-69c1-4d1f-bf19-ff4a108f4af5\n",
      "1632ab1d-a382-434c-8aee-1f3c9ac7e0f4\n",
      "a4082054-a700-45c8-a942-336db9287260\n",
      "fbac4147-acbf-41ef-8b17-382e59c2ad42\n",
      "2beddf59-633d-4bf2-b43d-b67d097b3cfe\n",
      "1c2f8172-a0d9-4c10-8700-43ed23a4f62b\n",
      "e015f7dd-eee4-412e-93a2-e9ebee00e428\n",
      "0302bf37-d7b4-49d1-818f-7ef3159c62f2\n",
      "c5a6e99d-37fd-43b6-a171-fbfc5568c6a7\n",
      "9383afaa-4f15-4871-8a33-553ba8dd5560\n",
      "57d079a0-a195-453e-bb01-9ccff26a5de2\n",
      "b3167ee2-af3b-4c0e-9011-7ed4d78404da\n",
      "43039b94-e279-4975-9e0f-945c5bc2fa6c\n",
      "dd7eda96-6061-42a7-8a71-70254b1fa534\n",
      "8f991a72-0838-4906-8196-8d0beb733eea\n",
      "88faa0f6-24b4-462c-8a46-8fd8056dd609\n",
      "6b13ff41-c8b8-4ece-a9e5-43f0e489c421\n",
      "a81bf85e-df2c-4449-8fda-79bc3d9f391e\n",
      "a5c26975-2544-49c5-958f-39849cabbcf6\n",
      "b03dbf02-c0fc-47e5-8447-5655de43683f\n",
      "272e6b1f-4be3-43a4-a75a-3f668332bdeb\n",
      "a5e3252f-fd0c-4278-870b-8607b0b8b481\n",
      "065946d2-93ba-411d-9783-bcda122344f5\n",
      "73494e35-d957-4377-9f24-d4580e9f4571\n",
      "82818862-7f1d-4760-a38b-40364aa58d94\n",
      "e2e67801-cb33-4fb9-8d40-0273b5df89b7\n",
      "e67d9eaf-2b08-4a52-a371-6fbda340ad03\n",
      "2101d049-7636-46c5-a3af-8ed42293477d\n",
      "541fbbdb-4455-46f8-9630-707e93dd405d\n",
      "c1b3f55d-35ec-42c5-975a-255b1f9f355a\n"
     ]
    }
   ],
   "source": [
    "total_label_match_tracks = label_match(MBID_tracks_list)"
   ]
  },
  {
   "cell_type": "markdown",
   "id": "12098694",
   "metadata": {},
   "source": [
    "# Filter out NAs and write to CSV"
   ]
  },
  {
   "cell_type": "code",
   "execution_count": null,
   "id": "f4ca53e1",
   "metadata": {},
   "outputs": [],
   "source": [
    "total_label_match_tracks_filtered = total_label_match_tracks[total_label_match_tracks['label_type']!='NA']\n",
    "total_label_match_tracks_filtered.to_csv('../../gen/temp/fintrack_label_mbid.csv')"
   ]
  },
  {
   "cell_type": "code",
   "execution_count": null,
   "id": "10021180",
   "metadata": {},
   "outputs": [],
   "source": []
  }
 ],
 "metadata": {
  "kernelspec": {
   "display_name": "Python 3",
   "language": "python",
   "name": "python3"
  },
  "language_info": {
   "codemirror_mode": {
    "name": "ipython",
    "version": 3
   },
   "file_extension": ".py",
   "mimetype": "text/x-python",
   "name": "python",
   "nbconvert_exporter": "python",
   "pygments_lexer": "ipython3",
   "version": "3.8.8"
  }
 },
 "nbformat": 4,
 "nbformat_minor": 5
}
